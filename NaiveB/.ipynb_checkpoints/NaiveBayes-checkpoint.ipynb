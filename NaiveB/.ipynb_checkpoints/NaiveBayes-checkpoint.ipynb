{
 "cells": [
  {
   "cell_type": "code",
   "execution_count": 2,
   "id": "507fa5be",
   "metadata": {},
   "outputs": [
    {
     "ename": "ModuleNotFoundError",
     "evalue": "No module named 'numpy'",
     "output_type": "error",
     "traceback": [
      "\u001b[1;31m---------------------------------------------------------------------------\u001b[0m",
      "\u001b[1;31mModuleNotFoundError\u001b[0m                       Traceback (most recent call last)",
      "Cell \u001b[1;32mIn[2], line 2\u001b[0m\n\u001b[0;32m      1\u001b[0m \u001b[38;5;66;03m#Gerekli Kütüphanelerin Yüklenmesi Yapılıyor\u001b[39;00m\n\u001b[1;32m----> 2\u001b[0m \u001b[38;5;28;01mimport\u001b[39;00m \u001b[38;5;21;01mnumpy\u001b[39;00m \u001b[38;5;28;01mas\u001b[39;00m \u001b[38;5;21;01mnp\u001b[39;00m \u001b[38;5;66;03m# linear algebra\u001b[39;00m\n\u001b[0;32m      3\u001b[0m \u001b[38;5;28;01mimport\u001b[39;00m \u001b[38;5;21;01mpandas\u001b[39;00m \u001b[38;5;28;01mas\u001b[39;00m \u001b[38;5;21;01mpd\u001b[39;00m \u001b[38;5;66;03m# Veri işleme\u001b[39;00m\n",
      "\u001b[1;31mModuleNotFoundError\u001b[0m: No module named 'numpy'"
     ]
    }
   ],
   "source": [
    "\n",
    "\n",
    "#Gerekli Kütüphanelerin Yüklenmesi Yapılıyor\n",
    "import numpy as np # linear algebra\n",
    "import pandas as pd # Veri işleme"
   ]
  },
  {
   "cell_type": "markdown",
   "id": "3a277fd3",
   "metadata": {},
   "source": [
    "#### eğitim veri setinin ayarlanması"
   ]
  },
  {
   "cell_type": "code",
   "execution_count": null,
   "id": "e90e8076",
   "metadata": {},
   "outputs": [],
   "source": [
    "df = pd.read_csv('1048f160-44df-48aa-a79f-7baddebfea62.csv')"
   ]
  },
  {
   "cell_type": "code",
   "execution_count": null,
   "id": "f8041b0a",
   "metadata": {
    "scrolled": false
   },
   "outputs": [],
   "source": [
    "encok=df['credit_history'].value_counts().idxmax()\n",
    "df['credit_history']=df['credit_history'].apply(lambda x: encok if (x==\"?\") else x)\n",
    "encok=df['credit_amount'].value_counts().idxmax()\n",
    "df['credit_amount']=df['credit_amount'].apply(lambda x: encok if (x==\"?\") else x)\n",
    "encok=df['property_magnitude'].value_counts().idxmax()\n",
    "df['property_magnitude']=df['property_magnitude'].apply(lambda x: encok if (x==\"?\") else x)\n",
    "encok=df['age'].value_counts().idxmax()\n",
    "df['age']=df['age'].apply(lambda x: encok if (x==\"?\") else x)\n",
    "encok=df['employment'].value_counts().idxmax()\n",
    "df['employment']=df['employment'].apply(lambda x: encok if (x==\"unemployed\") else x)"
   ]
  },
  {
   "cell_type": "code",
   "execution_count": null,
   "id": "f1b794b0",
   "metadata": {},
   "outputs": [],
   "source": [
    "df[\"credit_amount\"] = df[\"credit_amount\"].astype(int)\n",
    "df[\"age\"] = df[\"age\"].astype(int)"
   ]
  },
  {
   "cell_type": "code",
   "execution_count": null,
   "id": "1e7520b5",
   "metadata": {},
   "outputs": [],
   "source": [
    "dummy_df = pd.get_dummies(df[[\"credit_history\",\"employment\",\"property_magnitude\"]])\n",
    "df = pd.concat([df,dummy_df],axis=1)\n",
    "df = df.drop([\"credit_history\",\"employment\",\"property_magnitude\"],axis=1)\n",
    "df[\"class\"].replace(\"good\", value = 1, inplace = True)\n",
    "df[\"class\"].replace(\"bad\", value = 0, inplace = True)"
   ]
  },
  {
   "cell_type": "markdown",
   "id": "76231e37",
   "metadata": {},
   "source": [
    "#### test veri setinin ayarlanması\n"
   ]
  },
  {
   "cell_type": "code",
   "execution_count": null,
   "id": "982a3bd9",
   "metadata": {},
   "outputs": [],
   "source": [
    "df1 = pd.read_csv('37f47033-fb0e-48ef-acf2-6b91d4e71528.csv')"
   ]
  },
  {
   "cell_type": "code",
   "execution_count": null,
   "id": "ebe9d3b4",
   "metadata": {},
   "outputs": [],
   "source": [
    "encok=df1['credit_history'].value_counts().idxmax()\n",
    "df1['credit_history']=df1['credit_history'].apply(lambda x: encok if (x==\"?\") else x)\n",
    "encok=df1['credit_amount'].value_counts().idxmin()\n",
    "df1['credit_amount']=df1['credit_amount'].apply(lambda x: encok if (x==\"?\") else x)\n",
    "encok=df1['property_magnitude'].value_counts().idxmax()\n",
    "df1['property_magnitude']=df1['property_magnitude'].apply(lambda x: encok if (x==\"?\") else x)\n",
    "encok=df1['age'].value_counts().idxmax()\n",
    "df1['age']=df1['age'].apply(lambda x: encok if (x==\"?\") else x)\n",
    "encok=df1['employment'].value_counts().idxmax()\n",
    "df1['employment']=df1['employment'].apply(lambda x: encok if (x==\"unemployed\") else x)\n",
    "encok=df1['employment'].value_counts().idxmax()\n",
    "df1['employment']=df1['employment'].apply(lambda x: encok if (x==\"?\") else x)"
   ]
  },
  {
   "cell_type": "code",
   "execution_count": null,
   "id": "64f84be4",
   "metadata": {},
   "outputs": [],
   "source": [
    "df1[\"credit_amount\"] = df1[\"credit_amount\"].astype(int)\n",
    "df1[\"age\"] = df1[\"age\"].astype(int)"
   ]
  },
  {
   "cell_type": "code",
   "execution_count": null,
   "id": "b66f8dad",
   "metadata": {},
   "outputs": [],
   "source": [
    "dummy_df1 = pd.get_dummies(df1[[\"credit_history\",\"employment\",\"property_magnitude\"]])\n",
    "df1 = pd.concat([df1,dummy_df1],axis=1)\n",
    "df1 = df1.drop([\"credit_history\",\"employment\",\"property_magnitude\"],axis=1)\n",
    "df1[\"class\"].replace(\"good\", value = 1, inplace = True)\n",
    "df1[\"class\"].replace(\"bad\", value = 0, inplace = True)"
   ]
  },
  {
   "cell_type": "code",
   "execution_count": null,
   "id": "2069ec93",
   "metadata": {},
   "outputs": [],
   "source": [
    "# eğitim setini x ve y olarak ayırıyoruz\n",
    "X_train = df.drop([\"class\"],axis=1)\n",
    "y_train = df[\"class\"]"
   ]
  },
  {
   "cell_type": "code",
   "execution_count": null,
   "id": "9e40692c",
   "metadata": {},
   "outputs": [],
   "source": [
    "# test setimizi x ve y olarak ayırıyoruz\n",
    "X_test = df1.drop([\"class\"],axis=1)\n",
    "y_test = df1[\"class\"]"
   ]
  },
  {
   "cell_type": "code",
   "execution_count": null,
   "id": "5107c2d9",
   "metadata": {},
   "outputs": [],
   "source": [
    "#  GaussianNB navie bayes analiz sınıfını ekliyoruz\n",
    "from sklearn.naive_bayes import GaussianNB\n",
    "nb=GaussianNB()\n",
    "nb.fit(X_train.values,y_train.values)\n",
    "pred=nb.predict(X_test.values)"
   ]
  },
  {
   "cell_type": "code",
   "execution_count": null,
   "id": "63d0f212",
   "metadata": {},
   "outputs": [],
   "source": [
    "tp_adet=0\n",
    "tn_adet=0\n",
    "fp_adet=0\n",
    "fn_adet=0\n",
    "for x in range(len(pred)):\n",
    "    if (pred[x]==y_test.values[x]):\n",
    "        if(pred[x]==1):\n",
    "            tp_adet=tp_adet+1\n",
    "        else:\n",
    "            tn_adet=tn_adet+1\n",
    "    else:\n",
    "        if(pred[x]==1):\n",
    "            fp_adet=fp_adet+1\n",
    "        else:\n",
    "            fn_adet=fn_adet+1"
   ]
  },
  {
   "cell_type": "code",
   "execution_count": null,
   "id": "a8be7a2f",
   "metadata": {},
   "outputs": [],
   "source": [
    "accuracy=(tp_adet+tn_adet)/(tp_adet+tn_adet+fp_adet+fn_adet)\n",
    "tpr=tp_adet/(tp_adet+fn_adet)\n",
    "tnr=tn_adet/(tn_adet+fp_adet)"
   ]
  },
  {
   "cell_type": "code",
   "execution_count": null,
   "id": "dc84be08",
   "metadata": {},
   "outputs": [
    {
     "name": "stdout",
     "output_type": "stream",
     "text": [
      "Test Sonucu:\n",
      "Accuracy (Doğruluk): 0.684\n",
      "TP rate (Gerçek Pozitif Oranı): 0.8863636363636364\n",
      "TN rate  (Gerçek Negatif Oranı): 0.20270270270270271\n",
      "TP  (Gerçek Pozitif) Adeti: 156\n",
      "TN  (Gerçek Negatif) Adeti: 15\n"
     ]
    }
   ],
   "source": [
    "print(\"Test Sonucu:\")\n",
    "print(\"Accuracy (Doğruluk):\",accuracy)\n",
    "print(\"TP rate (Gerçek Pozitif Oranı):\",tpr)\n",
    "print(\"TN rate  (Gerçek Negatif Oranı):\",tnr)\n",
    "print(\"TP  (Gerçek Pozitif) Adeti:\",tp_adet)\n",
    "print(\"TN  (Gerçek Negatif) Adeti:\",tn_adet)"
   ]
  },
  {
   "cell_type": "code",
   "execution_count": null,
   "id": "d34fb0a9",
   "metadata": {},
   "outputs": [],
   "source": [
    "#  Karar Ağacı \n",
    "from sklearn.tree import DecisionTreeClassifier\n",
    "dt=DecisionTreeClassifier()\n",
    "dt.fit(X_train.values,y_train.values)\n",
    "pred=dt.predict(X_test.values)"
   ]
  },
  {
   "cell_type": "code",
   "execution_count": null,
   "id": "38f6990a",
   "metadata": {},
   "outputs": [],
   "source": [
    "tp_adet=0\n",
    "tn_adet=0\n",
    "fp_adet=0\n",
    "fn_adet=0\n",
    "for x in range(len(pred)):\n",
    "    if (pred[x]==y_test.values[x]):\n",
    "        if(pred[x]==1):\n",
    "            tp_adet=tp_adet+1\n",
    "        else:\n",
    "            tn_adet=tn_adet+1\n",
    "    else:\n",
    "        if(pred[x]==1):\n",
    "            fp_adet=fp_adet+1\n",
    "        else:\n",
    "            fn_adet=fn_adet+1"
   ]
  },
  {
   "cell_type": "code",
   "execution_count": null,
   "id": "e0ae7132",
   "metadata": {},
   "outputs": [],
   "source": [
    "accuracy=(tp_adet+tn_adet)/(tp_adet+tn_adet+fp_adet+fn_adet)\n",
    "tpr=tp_adet/(tp_adet+fn_adet)\n",
    "tnr=tn_adet/(tn_adet+fp_adet)"
   ]
  },
  {
   "cell_type": "code",
   "execution_count": null,
   "id": "ca178aad",
   "metadata": {},
   "outputs": [
    {
     "name": "stdout",
     "output_type": "stream",
     "text": [
      "Test Sonucu:\n",
      "Accuracy (Doğruluk): 0.584\n",
      "TP rate (Gerçek Pozitif Oranı): 0.7045454545454546\n",
      "TN rate  (Gerçek Negatif Oranı): 0.2972972972972973\n",
      "TP  (Gerçek Pozitif) Adeti: 124\n",
      "TN  (Gerçek Negatif) Adeti: 22\n"
     ]
    }
   ],
   "source": [
    "print(\"Test Sonucu:\")\n",
    "print(\"Accuracy (Doğruluk):\",accuracy)\n",
    "print(\"TP rate (Gerçek Pozitif Oranı):\",tpr)\n",
    "print(\"TN rate  (Gerçek Negatif Oranı):\",tnr)\n",
    "print(\"TP  (Gerçek Pozitif) Adeti:\",tp_adet)\n",
    "print(\"TN  (Gerçek Negatif) Adeti:\",tn_adet)"
   ]
  },
  {
   "cell_type": "code",
   "execution_count": null,
   "id": "0d1a4065",
   "metadata": {},
   "outputs": [],
   "source": []
  },
  {
   "cell_type": "code",
   "execution_count": null,
   "id": "83ecdc25",
   "metadata": {},
   "outputs": [],
   "source": []
  }
 ],
 "metadata": {
  "kernelspec": {
   "display_name": "Python 3 (ipykernel)",
   "language": "python",
   "name": "python3"
  },
  "language_info": {
   "codemirror_mode": {
    "name": "ipython",
    "version": 3
   },
   "file_extension": ".py",
   "mimetype": "text/x-python",
   "name": "python",
   "nbconvert_exporter": "python",
   "pygments_lexer": "ipython3",
   "version": "3.10.9"
  },
  "vscode": {
   "interpreter": {
    "hash": "ef1ba198487ca040adaa781f6a7f6c93019b6d76326d5a68394f9c7bc9ee3881"
   }
  }
 },
 "nbformat": 4,
 "nbformat_minor": 5
}
